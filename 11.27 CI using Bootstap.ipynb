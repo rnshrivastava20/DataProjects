{
 "cells": [
  {
   "cell_type": "code",
   "execution_count": 2,
   "metadata": {},
   "outputs": [
    {
     "data": {
      "image/png": "[encoded data removed]",
      "text/plain": [
       "<Figure size 432x288 with 1 Axes>"
      ]
     },
     "metadata": {
      "needs_background": "light"
     },
     "output_type": "display_data"
    },
    {
     "name": "stdout",
     "output_type": "stream",
     "text": [
      "95.0 confidence interval 165.0 and 180.5\n"
     ]
    }
   ],
   "source": [
    "import numpy\n",
    "from pandas import read_csv\n",
    "from sklearn.utils import resample\n",
    "from sklearn.metrics import accuracy_score\n",
    "from matplotlib import pyplot\n",
    "x=numpy.array([180,162,170,160,168,176,172,186,182,165])\n",
    "n_iterations=100\n",
    "n_size=int(len(x))\n",
    "medians=list()\n",
    "for i in range(n_iterations):\n",
    "    s=resample(x,n_samples=n_size)\n",
    "    m=numpy.median(s)\n",
    "    medians.append(m)\n",
    "pyplot.hist(medians)\n",
    "pyplot.show()\n",
    "alpha=0.95\n",
    "p=((1.0-alpha)/2.0)*100\n",
    "lower=numpy.percentile(medians,p)\n",
    "p=(alpha+(1.0-alpha)/2.0)*100\n",
    "upper=numpy.percentile(medians,p)\n",
    "print('%.1f confidence interval %.1f and %.1f'%(alpha*100,lower,upper))"
   ]
  },
  {
   "cell_type": "code",
   "execution_count": null,
   "metadata": {},
   "outputs": [],
   "source": []
  }
 ],
 "metadata": {
  "kernelspec": {
   "display_name": "Python 3",
   "language": "python",
   "name": "python3"
  },
  "language_info": {
   "codemirror_mode": {
    "name": "ipython",
    "version": 3
   },
   "file_extension": ".py",
   "mimetype": "text/x-python",
   "name": "python",
   "nbconvert_exporter": "python",
   "pygments_lexer": "ipython3",
   "version": "3.7.4"
  }
 },
 "nbformat": 4,
 "nbformat_minor": 2
}
